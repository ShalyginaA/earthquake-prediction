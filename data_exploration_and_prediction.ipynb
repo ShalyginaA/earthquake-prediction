{
 "cells": [
  {
   "cell_type": "code",
   "execution_count": 1,
   "metadata": {},
   "outputs": [],
   "source": [
    "import pandas as pd\n",
    "import numpy as np\n",
    "import matplotlib.pyplot as plt"
   ]
  },
  {
   "cell_type": "code",
   "execution_count": 2,
   "metadata": {},
   "outputs": [],
   "source": [
    "import os"
   ]
  },
  {
   "cell_type": "code",
   "execution_count": 3,
   "metadata": {},
   "outputs": [],
   "source": [
    "plt.style.use(\"seaborn-dark\") # Plot style\n",
    "# allows to output plots in the notebook\n",
    "%matplotlib inline "
   ]
  },
  {
   "cell_type": "markdown",
   "metadata": {},
   "source": [
    "#### Training data"
   ]
  },
  {
   "cell_type": "markdown",
   "metadata": {},
   "source": [
    "* Huge csv\n",
    "* Acoustic data: the seismic signal\n",
    "* Time to failure: the time until the next laboratory earthquake in sec\n",
    "* No missing values "
   ]
  },
  {
   "cell_type": "code",
   "execution_count": 4,
   "metadata": {},
   "outputs": [],
   "source": [
    "train = pd.read_csv(\"train.csv\", dtype={'acoustic_data': np.int16, 'time_to_failure': np.float64})"
   ]
  },
  {
   "cell_type": "code",
   "execution_count": 5,
   "metadata": {},
   "outputs": [
    {
     "data": {
      "text/html": [
       "<div>\n",
       "<style scoped>\n",
       "    .dataframe tbody tr th:only-of-type {\n",
       "        vertical-align: middle;\n",
       "    }\n",
       "\n",
       "    .dataframe tbody tr th {\n",
       "        vertical-align: top;\n",
       "    }\n",
       "\n",
       "    .dataframe thead th {\n",
       "        text-align: right;\n",
       "    }\n",
       "</style>\n",
       "<table border=\"1\" class=\"dataframe\">\n",
       "  <thead>\n",
       "    <tr style=\"text-align: right;\">\n",
       "      <th></th>\n",
       "      <th>acoustic_data</th>\n",
       "      <th>time_to_failure</th>\n",
       "    </tr>\n",
       "  </thead>\n",
       "  <tbody>\n",
       "    <tr>\n",
       "      <th>0</th>\n",
       "      <td>12</td>\n",
       "      <td>1.4690999832</td>\n",
       "    </tr>\n",
       "    <tr>\n",
       "      <th>1</th>\n",
       "      <td>6</td>\n",
       "      <td>1.4690999821</td>\n",
       "    </tr>\n",
       "    <tr>\n",
       "      <th>2</th>\n",
       "      <td>8</td>\n",
       "      <td>1.4690999810</td>\n",
       "    </tr>\n",
       "    <tr>\n",
       "      <th>3</th>\n",
       "      <td>5</td>\n",
       "      <td>1.4690999799</td>\n",
       "    </tr>\n",
       "    <tr>\n",
       "      <th>4</th>\n",
       "      <td>8</td>\n",
       "      <td>1.4690999788</td>\n",
       "    </tr>\n",
       "  </tbody>\n",
       "</table>\n",
       "</div>"
      ],
      "text/plain": [
       "   acoustic_data  time_to_failure\n",
       "0             12     1.4690999832\n",
       "1              6     1.4690999821\n",
       "2              8     1.4690999810\n",
       "3              5     1.4690999799\n",
       "4              8     1.4690999788"
      ]
     },
     "execution_count": 5,
     "metadata": {},
     "output_type": "execute_result"
    }
   ],
   "source": [
    "pd.set_option(\"display.precision\", 15)\n",
    "train.head()"
   ]
  },
  {
   "cell_type": "code",
   "execution_count": 6,
   "metadata": {},
   "outputs": [
    {
     "data": {
      "text/plain": [
       "(629145480, 2)"
      ]
     },
     "execution_count": 6,
     "metadata": {},
     "output_type": "execute_result"
    }
   ],
   "source": [
    "train.shape"
   ]
  },
  {
   "cell_type": "code",
   "execution_count": 7,
   "metadata": {},
   "outputs": [
    {
     "data": {
      "text/plain": [
       "count    6.29145480e+08\n",
       "mean     4.51946757e+00\n",
       "std      1.07357072e+01\n",
       "min     -5.51500000e+03\n",
       "25%      2.00000000e+00\n",
       "50%      5.00000000e+00\n",
       "75%      7.00000000e+00\n",
       "max      5.44400000e+03\n",
       "Name: acoustic_data, dtype: float64"
      ]
     },
     "execution_count": 7,
     "metadata": {},
     "output_type": "execute_result"
    }
   ],
   "source": [
    "#display acoustic data statistics\n",
    "pd.set_option(\"display.precision\", 8)\n",
    "train.acoustic_data.describe()"
   ]
  },
  {
   "cell_type": "markdown",
   "metadata": {},
   "source": [
    "#### Test data"
   ]
  },
  {
   "cell_type": "markdown",
   "metadata": {},
   "source": [
    "Test folder contain many csv files"
   ]
  },
  {
   "cell_type": "code",
   "execution_count": 8,
   "metadata": {},
   "outputs": [
    {
     "name": "stdout",
     "output_type": "stream",
     "text": [
      "['seg_00a37e.csv', 'seg_d6b386.csv', 'seg_4280d9.csv', 'seg_376908.csv', 'seg_26a2a0.csv', 'seg_eb1d6e.csv', 'seg_b87cf5.csv', 'seg_d56d32.csv', 'seg_c243a6.csv', 'seg_0dc38f.csv']\n",
      "\n",
      "Number of files in the test folder 2624\n"
     ]
    }
   ],
   "source": [
    "test_folder_files = os.listdir(\"test\")\n",
    "print(test_folder_files[:10])  # print first 10\n",
    "print(\"\\nNumber of files in the test folder\", len(test_folder_files))"
   ]
  },
  {
   "cell_type": "markdown",
   "metadata": {},
   "source": [
    "#### Sample submission"
   ]
  },
  {
   "cell_type": "code",
   "execution_count": 9,
   "metadata": {},
   "outputs": [
    {
     "name": "stdout",
     "output_type": "stream",
     "text": [
      "Submission shape (2624, 2)\n"
     ]
    },
    {
     "data": {
      "text/html": [
       "<div>\n",
       "<style scoped>\n",
       "    .dataframe tbody tr th:only-of-type {\n",
       "        vertical-align: middle;\n",
       "    }\n",
       "\n",
       "    .dataframe tbody tr th {\n",
       "        vertical-align: top;\n",
       "    }\n",
       "\n",
       "    .dataframe thead th {\n",
       "        text-align: right;\n",
       "    }\n",
       "</style>\n",
       "<table border=\"1\" class=\"dataframe\">\n",
       "  <thead>\n",
       "    <tr style=\"text-align: right;\">\n",
       "      <th></th>\n",
       "      <th>seg_id</th>\n",
       "      <th>time_to_failure</th>\n",
       "    </tr>\n",
       "  </thead>\n",
       "  <tbody>\n",
       "    <tr>\n",
       "      <th>0</th>\n",
       "      <td>seg_00030f</td>\n",
       "      <td>0</td>\n",
       "    </tr>\n",
       "    <tr>\n",
       "      <th>1</th>\n",
       "      <td>seg_0012b5</td>\n",
       "      <td>0</td>\n",
       "    </tr>\n",
       "    <tr>\n",
       "      <th>2</th>\n",
       "      <td>seg_00184e</td>\n",
       "      <td>0</td>\n",
       "    </tr>\n",
       "    <tr>\n",
       "      <th>3</th>\n",
       "      <td>seg_003339</td>\n",
       "      <td>0</td>\n",
       "    </tr>\n",
       "    <tr>\n",
       "      <th>4</th>\n",
       "      <td>seg_0042cc</td>\n",
       "      <td>0</td>\n",
       "    </tr>\n",
       "  </tbody>\n",
       "</table>\n",
       "</div>"
      ],
      "text/plain": [
       "       seg_id  time_to_failure\n",
       "0  seg_00030f                0\n",
       "1  seg_0012b5                0\n",
       "2  seg_00184e                0\n",
       "3  seg_003339                0\n",
       "4  seg_0042cc                0"
      ]
     },
     "execution_count": 9,
     "metadata": {},
     "output_type": "execute_result"
    }
   ],
   "source": [
    "sample_sub = pd.read_csv('sample_submission.csv')\n",
    "print(\"Submission shape\", sample_sub.shape)\n",
    "sample_sub.head()"
   ]
  },
  {
   "cell_type": "markdown",
   "metadata": {},
   "source": [
    "*****************************************"
   ]
  },
  {
   "cell_type": "code",
   "execution_count": 10,
   "metadata": {},
   "outputs": [
    {
     "name": "stdout",
     "output_type": "stream",
     "text": [
      "min value: 0.000096, max value: 16.11, mean: 5.6783\n"
     ]
    }
   ],
   "source": [
    "# time_to_failure stats\n",
    "tmin = np.min(train.time_to_failure)\n",
    "tmax = np.max(train.time_to_failure) \n",
    "tmean = np.mean(train.time_to_failure)\n",
    "print(\"min value: {:.6f}, max value: {:.2f}, mean: {:.4f}\".format(tmin, tmax, tmean))"
   ]
  },
  {
   "cell_type": "code",
   "execution_count": 11,
   "metadata": {},
   "outputs": [
    {
     "data": {
      "image/png": "[encoded data removed]",
      "text/plain": [
       "<Figure size 720x360 with 2 Axes>"
      ]
     },
     "metadata": {
      "needs_background": "light"
     },
     "output_type": "display_data"
    }
   ],
   "source": [
    "train_acoustic_data_small = train['acoustic_data'].values[::50]\n",
    "train_time_to_failure_small = train['time_to_failure'].values[::50]\n",
    "\n",
    "fig, ax1 = plt.subplots(figsize=(10, 5))\n",
    "plt.title(\"acoustic_data and time_to_failure, 2% of data\")\n",
    "plt.plot(train_acoustic_data_small, color='b')\n",
    "ax1.set_ylabel('acoustic_data', color='b')\n",
    "ax2 = ax1.twinx()\n",
    "plt.plot(train_time_to_failure_small, color='g')\n",
    "ax2.set_ylabel('time_to_failure', color='g')\n",
    "plt.grid(False)"
   ]
  },
  {
   "cell_type": "markdown",
   "metadata": {},
   "source": [
    "* fluctuations (acoustic data) before the failure\n",
    "* periodic data"
   ]
  },
  {
   "cell_type": "markdown",
   "metadata": {},
   "source": [
    "********************************************************************"
   ]
  },
  {
   "cell_type": "code",
   "execution_count": 12,
   "metadata": {},
   "outputs": [],
   "source": [
    "from feature_engineering import *"
   ]
  },
  {
   "cell_type": "code",
   "execution_count": 13,
   "metadata": {},
   "outputs": [],
   "source": [
    "wavelet = 'db4'\n",
    "level = 9\n",
    "training_fg = FeatureGenerator(dtype='train', n_jobs=1, chunk_size=150000, wavelet=wavelet, level=level)\n",
    "#training_data = training_fg.generate()\n",
    "\n",
    "test_fg = FeatureGenerator(dtype='test', n_jobs=1, chunk_size=None, wavelet=wavelet, level=level)\n",
    "#test_data = test_fg.generate()\n",
    "\n",
    "#training_data.to_csv(\"train_features.csv\", index=False)\n",
    "#test_data.to_csv(\"test_features.csv\", index=False)"
   ]
  },
  {
   "cell_type": "code",
   "execution_count": 15,
   "metadata": {},
   "outputs": [],
   "source": [
    "training_data = pd.read_csv(\"train_features.csv\")\n",
    "test_data = pd.read_csv(\"test_features.csv\")"
   ]
  },
  {
   "cell_type": "code",
   "execution_count": 16,
   "metadata": {},
   "outputs": [
    {
     "name": "stdout",
     "output_type": "stream",
     "text": [
      "(4179, 1530) (2624, 1530)\n"
     ]
    }
   ],
   "source": [
    "training_data.dropna(axis=1, inplace=True)\n",
    "test_data.dropna(axis=1, inplace=True)\n",
    "print(training_data.shape, test_data.shape)"
   ]
  },
  {
   "cell_type": "code",
   "execution_count": 17,
   "metadata": {},
   "outputs": [
    {
     "data": {
      "text/html": [
       "<div>\n",
       "<style scoped>\n",
       "    .dataframe tbody tr th:only-of-type {\n",
       "        vertical-align: middle;\n",
       "    }\n",
       "\n",
       "    .dataframe tbody tr th {\n",
       "        vertical-align: top;\n",
       "    }\n",
       "\n",
       "    .dataframe thead th {\n",
       "        text-align: right;\n",
       "    }\n",
       "</style>\n",
       "<table border=\"1\" class=\"dataframe\">\n",
       "  <thead>\n",
       "    <tr style=\"text-align: right;\">\n",
       "      <th></th>\n",
       "      <th>energy_chunk0_diff_cA</th>\n",
       "      <th>energy_chunk0_diff_cD1</th>\n",
       "      <th>energy_chunk0_diff_cD2</th>\n",
       "      <th>energy_chunk0_diff_cD3</th>\n",
       "      <th>energy_chunk0_diff_cD4</th>\n",
       "      <th>energy_chunk0_diff_cD5</th>\n",
       "      <th>energy_chunk0_diff_cD6</th>\n",
       "      <th>energy_chunk0_diff_cD7</th>\n",
       "      <th>energy_chunk0_diff_cD8</th>\n",
       "      <th>energy_chunk0_diff_cD9</th>\n",
       "      <th>...</th>\n",
       "      <th>varregular_cA</th>\n",
       "      <th>varregular_cD1</th>\n",
       "      <th>varregular_cD2</th>\n",
       "      <th>varregular_cD3</th>\n",
       "      <th>varregular_cD4</th>\n",
       "      <th>varregular_cD5</th>\n",
       "      <th>varregular_cD6</th>\n",
       "      <th>varregular_cD7</th>\n",
       "      <th>varregular_cD8</th>\n",
       "      <th>varregular_cD9</th>\n",
       "    </tr>\n",
       "  </thead>\n",
       "  <tbody>\n",
       "    <tr>\n",
       "      <th>0</th>\n",
       "      <td>1507.98658598</td>\n",
       "      <td>45343.18064692</td>\n",
       "      <td>20294.98292390</td>\n",
       "      <td>61753.82729028</td>\n",
       "      <td>64703.89107257</td>\n",
       "      <td>3813.75976922</td>\n",
       "      <td>237.61509845</td>\n",
       "      <td>11.64131898</td>\n",
       "      <td>9.16335181</td>\n",
       "      <td>14.50563695</td>\n",
       "      <td>...</td>\n",
       "      <td>126.54318032</td>\n",
       "      <td>4.13209274</td>\n",
       "      <td>9.27327685</td>\n",
       "      <td>62.84413384</td>\n",
       "      <td>187.30772639</td>\n",
       "      <td>51.73166106</td>\n",
       "      <td>15.77205789</td>\n",
       "      <td>6.40279260</td>\n",
       "      <td>6.62136738</td>\n",
       "      <td>9.79030814</td>\n",
       "    </tr>\n",
       "    <tr>\n",
       "      <th>1</th>\n",
       "      <td>1048.69939301</td>\n",
       "      <td>45525.43935062</td>\n",
       "      <td>19944.91243696</td>\n",
       "      <td>9160.18168006</td>\n",
       "      <td>5397.05242538</td>\n",
       "      <td>223.61678595</td>\n",
       "      <td>13.48805669</td>\n",
       "      <td>3.43354952</td>\n",
       "      <td>5.62035715</td>\n",
       "      <td>10.46047462</td>\n",
       "      <td>...</td>\n",
       "      <td>38.07671485</td>\n",
       "      <td>4.14135109</td>\n",
       "      <td>10.12235410</td>\n",
       "      <td>115.96460370</td>\n",
       "      <td>291.85165267</td>\n",
       "      <td>158.96996280</td>\n",
       "      <td>56.83920563</td>\n",
       "      <td>8.82328205</td>\n",
       "      <td>7.04317231</td>\n",
       "      <td>9.97019093</td>\n",
       "    </tr>\n",
       "    <tr>\n",
       "      <th>2</th>\n",
       "      <td>2438.78286376</td>\n",
       "      <td>47092.25275878</td>\n",
       "      <td>21627.87646713</td>\n",
       "      <td>45221.05125070</td>\n",
       "      <td>30105.52253069</td>\n",
       "      <td>1456.41663389</td>\n",
       "      <td>135.92982543</td>\n",
       "      <td>15.86506656</td>\n",
       "      <td>13.57615612</td>\n",
       "      <td>24.42265539</td>\n",
       "      <td>...</td>\n",
       "      <td>97.02801836</td>\n",
       "      <td>4.15656649</td>\n",
       "      <td>10.32526553</td>\n",
       "      <td>118.66547507</td>\n",
       "      <td>351.77099609</td>\n",
       "      <td>199.44711695</td>\n",
       "      <td>36.98523647</td>\n",
       "      <td>10.86322911</td>\n",
       "      <td>7.58399945</td>\n",
       "      <td>11.42941801</td>\n",
       "    </tr>\n",
       "    <tr>\n",
       "      <th>3</th>\n",
       "      <td>1.57228816</td>\n",
       "      <td>43736.50417512</td>\n",
       "      <td>19987.08657403</td>\n",
       "      <td>16027.82982482</td>\n",
       "      <td>11863.63036643</td>\n",
       "      <td>321.81105847</td>\n",
       "      <td>28.08485792</td>\n",
       "      <td>1.34897373</td>\n",
       "      <td>0.13405816</td>\n",
       "      <td>0.02131132</td>\n",
       "      <td>...</td>\n",
       "      <td>210.03254803</td>\n",
       "      <td>4.10432528</td>\n",
       "      <td>10.13669809</td>\n",
       "      <td>126.99197728</td>\n",
       "      <td>280.62360621</td>\n",
       "      <td>266.98747030</td>\n",
       "      <td>83.69227185</td>\n",
       "      <td>12.03996746</td>\n",
       "      <td>8.40564661</td>\n",
       "      <td>11.45863898</td>\n",
       "    </tr>\n",
       "    <tr>\n",
       "      <th>4</th>\n",
       "      <td>4281.78694780</td>\n",
       "      <td>43891.13783135</td>\n",
       "      <td>19819.52531025</td>\n",
       "      <td>13741.94598521</td>\n",
       "      <td>18356.19231013</td>\n",
       "      <td>324.36847136</td>\n",
       "      <td>39.00519118</td>\n",
       "      <td>13.79124873</td>\n",
       "      <td>21.88790254</td>\n",
       "      <td>41.83126741</td>\n",
       "      <td>...</td>\n",
       "      <td>41.28709986</td>\n",
       "      <td>4.07984762</td>\n",
       "      <td>9.85246963</td>\n",
       "      <td>94.06225352</td>\n",
       "      <td>376.38286469</td>\n",
       "      <td>395.41950875</td>\n",
       "      <td>58.47809036</td>\n",
       "      <td>12.75828215</td>\n",
       "      <td>7.92335540</td>\n",
       "      <td>10.92513244</td>\n",
       "    </tr>\n",
       "  </tbody>\n",
       "</table>\n",
       "<p>5 rows × 1530 columns</p>\n",
       "</div>"
      ],
      "text/plain": [
       "   energy_chunk0_diff_cA  energy_chunk0_diff_cD1  energy_chunk0_diff_cD2  \\\n",
       "0          1507.98658598          45343.18064692          20294.98292390   \n",
       "1          1048.69939301          45525.43935062          19944.91243696   \n",
       "2          2438.78286376          47092.25275878          21627.87646713   \n",
       "3             1.57228816          43736.50417512          19987.08657403   \n",
       "4          4281.78694780          43891.13783135          19819.52531025   \n",
       "\n",
       "   energy_chunk0_diff_cD3  energy_chunk0_diff_cD4  energy_chunk0_diff_cD5  \\\n",
       "0          61753.82729028          64703.89107257           3813.75976922   \n",
       "1           9160.18168006           5397.05242538            223.61678595   \n",
       "2          45221.05125070          30105.52253069           1456.41663389   \n",
       "3          16027.82982482          11863.63036643            321.81105847   \n",
       "4          13741.94598521          18356.19231013            324.36847136   \n",
       "\n",
       "   energy_chunk0_diff_cD6  energy_chunk0_diff_cD7  energy_chunk0_diff_cD8  \\\n",
       "0            237.61509845             11.64131898              9.16335181   \n",
       "1             13.48805669              3.43354952              5.62035715   \n",
       "2            135.92982543             15.86506656             13.57615612   \n",
       "3             28.08485792              1.34897373              0.13405816   \n",
       "4             39.00519118             13.79124873             21.88790254   \n",
       "\n",
       "   energy_chunk0_diff_cD9       ...        varregular_cA  varregular_cD1  \\\n",
       "0             14.50563695       ...         126.54318032      4.13209274   \n",
       "1             10.46047462       ...          38.07671485      4.14135109   \n",
       "2             24.42265539       ...          97.02801836      4.15656649   \n",
       "3              0.02131132       ...         210.03254803      4.10432528   \n",
       "4             41.83126741       ...          41.28709986      4.07984762   \n",
       "\n",
       "   varregular_cD2  varregular_cD3  varregular_cD4  varregular_cD5  \\\n",
       "0      9.27327685     62.84413384    187.30772639     51.73166106   \n",
       "1     10.12235410    115.96460370    291.85165267    158.96996280   \n",
       "2     10.32526553    118.66547507    351.77099609    199.44711695   \n",
       "3     10.13669809    126.99197728    280.62360621    266.98747030   \n",
       "4      9.85246963     94.06225352    376.38286469    395.41950875   \n",
       "\n",
       "   varregular_cD6  varregular_cD7  varregular_cD8  varregular_cD9  \n",
       "0     15.77205789      6.40279260      6.62136738      9.79030814  \n",
       "1     56.83920563      8.82328205      7.04317231      9.97019093  \n",
       "2     36.98523647     10.86322911      7.58399945     11.42941801  \n",
       "3     83.69227185     12.03996746      8.40564661     11.45863898  \n",
       "4     58.47809036     12.75828215      7.92335540     10.92513244  \n",
       "\n",
       "[5 rows x 1530 columns]"
      ]
     },
     "execution_count": 17,
     "metadata": {},
     "output_type": "execute_result"
    }
   ],
   "source": [
    "training_data.head()"
   ]
  },
  {
   "cell_type": "code",
   "execution_count": 18,
   "metadata": {},
   "outputs": [],
   "source": [
    "from sklearn.preprocessing import StandardScaler"
   ]
  },
  {
   "cell_type": "code",
   "execution_count": 19,
   "metadata": {},
   "outputs": [],
   "source": [
    "features_cols = [c for c in training_data.columns if (('target' not in c) and ('seg_id' not in c))]\n",
    "\n",
    "X = training_data[features_cols].values\n",
    "y = training_data['target'].values\n",
    "X_test = test_data[features_cols].values"
   ]
  },
  {
   "cell_type": "code",
   "execution_count": 20,
   "metadata": {},
   "outputs": [],
   "source": [
    "scaler = StandardScaler()\n",
    "scaler.fit(X)\n",
    "X_train_scaled = scaler.transform(X)\n",
    "X_test_scaled = scaler.transform(X_test)"
   ]
  },
  {
   "cell_type": "code",
   "execution_count": 22,
   "metadata": {},
   "outputs": [
    {
     "data": {
      "text/plain": [
       "array([[ -0.104889  ,   0.48662047,   0.0519432 , ...,  -0.05916843,\n",
       "         -0.05934895,  -0.07578433],\n",
       "       [ -0.11282465,   0.6359871 ,  -0.10302314, ...,  -0.05725039,\n",
       "         -0.05877725,  -0.07537132],\n",
       "       [ -0.08880652,   1.92003903,   0.64197759, ...,  -0.05563391,\n",
       "         -0.05804424,  -0.07202096],\n",
       "       ...,\n",
       "       [ -0.05332582,  -1.47376904,  -0.62760345, ...,  -0.05913308,\n",
       "         -0.05873534,  -0.07771708],\n",
       "       [ -0.12778403,  -0.19585704,  -0.09048256, ...,  -0.05965076,\n",
       "         -0.05871682,  -0.07451162],\n",
       "       [ -0.12990839, -25.04782876,  -6.31871558, ...,  -0.05908113,\n",
       "         -0.05864919,  -0.08143768]])"
      ]
     },
     "execution_count": 22,
     "metadata": {},
     "output_type": "execute_result"
    }
   ],
   "source": [
    "X_train_scaled"
   ]
  },
  {
   "cell_type": "code",
   "execution_count": 23,
   "metadata": {},
   "outputs": [],
   "source": [
    "from sklearn.ensemble import RandomForestRegressor\n",
    "from sklearn.metrics import mean_absolute_error\n",
    "from sklearn.model_selection import train_test_split"
   ]
  },
  {
   "cell_type": "code",
   "execution_count": 24,
   "metadata": {},
   "outputs": [],
   "source": [
    "X_train, X_test, y_train, y_test = train_test_split(X_train_scaled,y)"
   ]
  },
  {
   "cell_type": "code",
   "execution_count": 37,
   "metadata": {},
   "outputs": [],
   "source": [
    "rf = RandomForestRegressor(n_jobs=100,criterion='mae', max_depth=10)"
   ]
  },
  {
   "cell_type": "code",
   "execution_count": 38,
   "metadata": {},
   "outputs": [
    {
     "name": "stderr",
     "output_type": "stream",
     "text": [
      "/home/anastasiia/anaconda3/lib/python3.6/site-packages/sklearn/ensemble/forest.py:246: FutureWarning: The default value of n_estimators will change from 10 in version 0.20 to 100 in 0.22.\n",
      "  \"10 in version 0.20 to 100 in 0.22.\", FutureWarning)\n"
     ]
    },
    {
     "data": {
      "text/plain": [
       "RandomForestRegressor(bootstrap=True, criterion='mae', max_depth=10,\n",
       "           max_features='auto', max_leaf_nodes=None,\n",
       "           min_impurity_decrease=0.0, min_impurity_split=None,\n",
       "           min_samples_leaf=1, min_samples_split=2,\n",
       "           min_weight_fraction_leaf=0.0, n_estimators=10, n_jobs=100,\n",
       "           oob_score=False, random_state=None, verbose=0, warm_start=False)"
      ]
     },
     "execution_count": 38,
     "metadata": {},
     "output_type": "execute_result"
    }
   ],
   "source": [
    "rf.fit(X_train,y_train)"
   ]
  },
  {
   "cell_type": "code",
   "execution_count": 39,
   "metadata": {},
   "outputs": [
    {
     "data": {
      "text/plain": [
       "2.057921039973532"
      ]
     },
     "execution_count": 39,
     "metadata": {},
     "output_type": "execute_result"
    }
   ],
   "source": [
    "mean_absolute_error(rf.predict(X_test),y_test)"
   ]
  },
  {
   "cell_type": "code",
   "execution_count": 40,
   "metadata": {},
   "outputs": [
    {
     "data": {
      "text/plain": [
       "1.2897721083533256"
      ]
     },
     "execution_count": 40,
     "metadata": {},
     "output_type": "execute_result"
    }
   ],
   "source": [
    "mean_absolute_error(rf.predict(X_train),y_train)"
   ]
  },
  {
   "cell_type": "code",
   "execution_count": 42,
   "metadata": {},
   "outputs": [
    {
     "data": {
      "text/plain": [
       "RandomForestRegressor(bootstrap=True, criterion='mae', max_depth=10,\n",
       "           max_features='auto', max_leaf_nodes=None,\n",
       "           min_impurity_decrease=0.0, min_impurity_split=None,\n",
       "           min_samples_leaf=1, min_samples_split=2,\n",
       "           min_weight_fraction_leaf=0.0, n_estimators=10, n_jobs=100,\n",
       "           oob_score=False, random_state=None, verbose=0, warm_start=False)"
      ]
     },
     "execution_count": 42,
     "metadata": {},
     "output_type": "execute_result"
    }
   ],
   "source": [
    "rf.fit(X_train_scaled,y)"
   ]
  },
  {
   "cell_type": "code",
   "execution_count": 44,
   "metadata": {},
   "outputs": [],
   "source": [
    "y_pred = rf.predict(X_test_scaled)"
   ]
  },
  {
   "cell_type": "code",
   "execution_count": 45,
   "metadata": {},
   "outputs": [],
   "source": [
    "# submission\n",
    "sub = pd.read_csv('sample_submission.csv')\n",
    "sub['time_to_failure'] = y_pred\n",
    "sub.to_csv('submission.csv', index=False)"
   ]
  }
 ],
 "metadata": {
  "kernelspec": {
   "display_name": "Python 3",
   "language": "python",
   "name": "python3"
  },
  "language_info": {
   "codemirror_mode": {
    "name": "ipython",
    "version": 3
   },
   "file_extension": ".py",
   "mimetype": "text/x-python",
   "name": "python",
   "nbconvert_exporter": "python",
   "pygments_lexer": "ipython3",
   "version": "3.6.6"
  }
 },
 "nbformat": 4,
 "nbformat_minor": 2
}
